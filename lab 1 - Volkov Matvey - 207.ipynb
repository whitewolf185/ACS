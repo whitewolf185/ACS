{
 "cells": [
  {
   "cell_type": "markdown",
   "metadata": {},
   "source": [
    "Результат скидывать на почту tt48@mail.ru в виде файла *.ipynb<br>\n",
    "В теме письма указывать, что это второй курс и что это \"системы аналитических вычислений\" или \"пакеты\". + номер ДЗ туда же.<br>\n",
    "В содержании письма указывать ФИО и группу."
   ]
  },
  {
   "cell_type": "markdown",
   "metadata": {},
   "source": [
    "**Студент:** Волков Матвей Андреевич"
   ]
  },
  {
   "cell_type": "markdown",
   "metadata": {},
   "source": [
    "<h1>Задание 0</h1>\n",
    "<pre>\n",
    "Установить SageMath 9.2 (https://www.sagemath.org/)\n",
    "В случае проблем - писать на почту.\n",
    "\t\n",
    "Как резервный вариант - on-line редакторы\n",
    "\thttps://cocalc.com/doc/jupyter-notebook.html\n",
    "\t\tесть некоторые проблемы по LaTeX возможностям.\n",
    "\thttps://sagecell.sagemath.org/\n",
    "\t\tработает, но предоставляется только одна ячейка\n",
    "\t\n",
    "\t- медленнее работают\n",
    "\t\t, есть ограничения по количеству времени на выполнение запроса\n",
    "\t\t, некоторые ошибки по синтаксису опускаются (LaTeX касается)\n",
    "\t\t, больше места экрана уходит на менюшки и прочего.\n",
    "\t\t\n",
    "\t+ ничего устанавливать не нужно. Можно даже не регистрироваться.\n",
    "</pre>"
   ]
  },
  {
   "cell_type": "markdown",
   "metadata": {},
   "source": [
    "<h1>Задание 1 - часть 1 - Квадратик</h1>\n",
    "Доделать начинания, что были на занятии:<br>\n",
    "при помощи функции отображения графиков отобразить квадратик.<br>\n",
    "Задав квадратик матрицей координат, повернуть и сдвинуть его относительно исходного положения.<br>\n",
    "Вывести исходный квадратик и результат.\n"
   ]
  },
  {
   "cell_type": "markdown",
   "metadata": {},
   "source": [
    "<h1>Задание 1 - часть 2 - Исследование функции</h1>\n",
    "Для заданной формулой функции найти:\n",
    "<ol>\n",
    "    <li>Область определения функции.</li>\n",
    "    <li>Является ли функция четной или нечетной, является ли периодической.</li>\n",
    "    <li>Точки пересечения графика с осями координат.</li>\n",
    "    <li>Промежутки знакопостоянства.</li>\n",
    "    <li>Промежутки возрастания и убывания.</li>\n",
    "    <li>Точки экстремума и значения в этих точках.</li>\n",
    "    <li>Непрерывность. Наличие точек разрыва и их классификация.</li>\n",
    "    <li>Асимптоты.</li>\n",
    "</ol>\n",
    "Построить график функции, асимптоты, промежутки знакопостоянства. (см. папку с материалами).<br>\n",
    "Необходимо также сделать минимальное, но оформление решения, а не просто набор ответов.\n",
    "\n",
    "<h4>Справочные материалы:</h4>\n",
    "<ol>\n",
    "    <li>Гусак, 1999г. - исследование графиков</li>\n",
    "    <li>Ефимов, Поспелов — т.2, стр. 86</li>\n",
    "    <li>Ильин, Поздняк — т.1, стр. 143 и стр. 300-327</li>\n",
    "    <li>Пискунов — стр. 144-184</li>\n",
    "</ol>"
   ]
  },
  {
   "cell_type": "markdown",
   "metadata": {},
   "source": [
    "<h1>Варианты:</h1>"
   ]
  },
  {
   "cell_type": "code",
   "execution_count": 2,
   "metadata": {},
   "outputs": [],
   "source": [
    "tasks = [ \n",
    "            x/sin(3*x**2 - 2*x + 5*ln(x))\n",
    "            , (x**2 - 4)*sin((pi*(x**2))/6) / (x**2 - 1)\n",
    "            , sqrt(abs(3*x^3 + 2*x^2 - 10*x)) / (4*x)\n",
    "            , 1/2 * ln(sqrt(x^2 + 1) / sqrt(x^2 - 1))\n",
    "            , (x^3 - x^2 - x + 1)^(1/3) / tan(x)\n",
    "            , 2*log((x - 1) / x) + 1\n",
    "            , ln(x - 1) / (x - 1)^2\n",
    "        ]"
   ]
  },
  {
   "cell_type": "markdown",
   "metadata": {},
   "source": [
    "В your_number присвоить ваш номер по списку в рейтинге.\n",
    "Рейтинги ваши лежат <a href='https://docs.google.com/spreadsheets/d/14cdxMHQw2Bd4i_4qoYWzV4olXgaNuckR6ZzWLCQQEUg/edit?usp=sharing'>здесь</a>"
   ]
  },
  {
   "cell_type": "code",
   "execution_count": 3,
   "metadata": {},
   "outputs": [
    {
     "name": "stdout",
     "output_type": "stream",
     "text": [
      "Номер вашего задания: 3.\n"
     ]
    },
    {
     "data": {
      "text/html": [
       "<html><script type=\"math/tex; mode=display\">\\newcommand{\\Bold}[1]{\\mathbf{#1}}\\verb|Ваша|\\phantom{\\verb!x!}\\verb|функция:| \\frac{1}{2} \\, \\log\\left(\\frac{\\sqrt{x^{2} + 1}}{\\sqrt{x^{2} - 1}}\\right)</script></html>"
      ],
      "text/latex": [
       "\\begin{math}\n",
       "\\newcommand{\\Bold}[1]{\\mathbf{#1}}\\verb|Ваша|\\phantom{\\verb!x!}\\verb|функция:| \\frac{1}{2} \\, \\log\\left(\\frac{\\sqrt{x^{2} + 1}}{\\sqrt{x^{2} - 1}}\\right)\n",
       "\\end{math}"
      ],
      "text/plain": [
       "'Ваша функция: ' 1/2*log(sqrt(x^2 + 1)/sqrt(x^2 - 1))"
      ]
     },
     "metadata": {},
     "output_type": "display_data"
    }
   ],
   "source": [
    "def get_variant_for_number(_number, _variations_quo):\n",
    "    return (_number - 1) % _variations_quo\n",
    "\n",
    "\n",
    "your_number = 4  # сюда вбить ваш номер по списку в рейтинге \n",
    "number_of_your_task = get_variant_for_number(_number=your_number, _variations_quo=len(tasks))\n",
    "print(f\"Номер вашего задания: {number_of_your_task}.\")\n",
    "show(\"Ваша функция: \", tasks[number_of_your_task])"
   ]
  },
  {
   "cell_type": "markdown",
   "metadata": {},
   "source": [
    "## Задание 1. Часть 1"
   ]
  },
  {
   "cell_type": "code",
   "execution_count": 4,
   "metadata": {
    "scrolled": false
   },
   "outputs": [
    {
     "data": {
      "image/png": "[encoded data removed]",
      "text/plain": [
       "Graphics object consisting of 2 graphics primitives"
      ]
     },
     "metadata": {},
     "output_type": "display_data"
    }
   ],
   "source": [
    "a=10\n",
    "rectangle_src = matrix([[0, 0], [0, a], [a, a], [a, 0], [0, 0]])\n",
    "alph = math.radians(60)\n",
    "mat_rot = matrix ([\n",
    "    [cos(alph), sin(alph)],\n",
    "    [-sin(alph), cos(alph)]\n",
    "])\n",
    "\n",
    "def shift(mat, x, y):\n",
    "    return mat + matrix([[x,y] for i in range(5)])\n",
    "\n",
    "mat_rr = rectangle_src * mat_rot\n",
    "\n",
    "show(line(rectangle_src) + line(shift(mat_rr,10,10)),\n",
    "    aspect_ratio=1)"
   ]
  },
  {
   "cell_type": "markdown",
   "metadata": {},
   "source": [
    "## Задание 1. Часть 2"
   ]
  },
  {
   "cell_type": "markdown",
   "metadata": {},
   "source": [
    "$$ f = \\frac{1}{2}* ln { \\left(  \\frac{\\sqrt{x^2 + 1}}{\\sqrt{x^2 - 1}}  \\right)}$$"
   ]
  },
  {
   "cell_type": "markdown",
   "metadata": {},
   "source": [
    "### 1. Область определения"
   ]
  },
  {
   "cell_type": "code",
   "execution_count": 5,
   "metadata": {},
   "outputs": [
    {
     "data": {
      "text/html": [
       "<script type=\"math/tex\">\\begin{equation*} \\begin{cases} x^{2} + 1 \\geq 0 \\newline  \\frac{\\sqrt{x^{2} + 1}}{\\sqrt{x^{2} - 1}} > 0 \\newline  x^{2} - 1 > 0 \\newline  \\end{cases} \\end{equation*}</script>"
      ],
      "text/plain": [
       "<script type=\"math/tex\">\\begin{equation*} \\begin{cases} x^{2} + 1 \\geq 0 \\newline  \\frac{\\sqrt{x^{2} + 1}}{\\sqrt{x^{2} - 1}} > 0 \\newline  x^{2} - 1 > 0 \\newline  \\end{cases} \\end{equation*}</script>"
      ]
     },
     "metadata": {},
     "output_type": "display_data"
    }
   ],
   "source": [
    "var(\"x\")\n",
    "f = 1/2 * ln(sqrt(x^2 + 1) / sqrt(x^2 - 1))\n",
    "\n",
    "cond1 = (x**2 + 1) >= 0\n",
    "cond2 = (sqrt(x**2 + 1)/sqrt(x**2 - 1)) > 0\n",
    "cond3 = (x**2 - 1) > 0\n",
    "show(html(\"\\\\begin{equation*} \\\\begin{cases} \" + \\\n",
    "         latex(cond1) + \" \\\\newline\\n\" + \\\n",
    "         latex(cond2) + \" \\\\newline\\n\" + \\\n",
    "         latex(cond3) + \" \\\\newline\\n\" + \\\n",
    "         \" \\\\end{cases} \\\\end{equation*}\"))"
   ]
  },
  {
   "cell_type": "markdown",
   "metadata": {},
   "source": [
    "Так как первое условие выполняется вегда и второе условие повторяет 3-е, мы их не будем рассматривать"
   ]
  },
  {
   "cell_type": "code",
   "execution_count": 6,
   "metadata": {},
   "outputs": [
    {
     "data": {
      "text/html": [
       "\\begin{equation*}  \\left[ \\begin{gathered} x < -1 \\newline\n",
       "x > 1 \\newline\n",
       " \\end{gathered} \\right. \\end{equation*}"
      ],
      "text/plain": [
       "\\begin{equation*}  \\left[ \\begin{gathered} x < -1 \\newline\n",
       "x > 1 \\newline\n",
       " \\end{gathered} \\right. \\end{equation*}"
      ]
     },
     "metadata": {},
     "output_type": "display_data"
    }
   ],
   "source": [
    "sl = solve(cond3, x)\n",
    "\n",
    "s=\"\"\n",
    "\n",
    "for i in sl:\n",
    "    s += str(i)[1:-1] + \" \\\\newline\\n\"\n",
    "    \n",
    "show(html(\"\\\\begin{equation*}  \\\\left[ \\\\begin{gathered} \" + s + \" \\\\end{gathered} \\\\right. \\\\end{equation*}\"))"
   ]
  },
  {
   "cell_type": "markdown",
   "metadata": {},
   "source": [
    "### 2. Четность и периодичтность функции"
   ]
  },
  {
   "cell_type": "code",
   "execution_count": 7,
   "metadata": {},
   "outputs": [
    {
     "data": {
      "text/html": [
       "<html><script type=\"math/tex; mode=display\">\\newcommand{\\Bold}[1]{\\mathbf{#1}}0</script></html>"
      ],
      "text/latex": [
       "\\begin{math}\n",
       "\\newcommand{\\Bold}[1]{\\mathbf{#1}}0\n",
       "\\end{math}"
      ],
      "text/plain": [
       "0"
      ]
     },
     "metadata": {},
     "output_type": "display_data"
    }
   ],
   "source": [
    "good_dog = f(-x) - f(x)\n",
    "show(good_dog)"
   ]
  },
  {
   "cell_type": "code",
   "execution_count": 8,
   "metadata": {},
   "outputs": [
    {
     "data": {
      "text/html": [
       "<html><script type=\"math/tex; mode=display\">\\newcommand{\\Bold}[1]{\\mathbf{#1}}\\frac{1}{2} \\, \\log\\left(x^{2} + 1\\right) - \\frac{1}{2} \\, \\log\\left(x^{2} - 1\\right)</script></html>"
      ],
      "text/latex": [
       "\\begin{math}\n",
       "\\newcommand{\\Bold}[1]{\\mathbf{#1}}\\frac{1}{2} \\, \\log\\left(x^{2} + 1\\right) - \\frac{1}{2} \\, \\log\\left(x^{2} - 1\\right)\n",
       "\\end{math}"
      ],
      "text/plain": [
       "1/2*log(x^2 + 1) - 1/2*log(x^2 - 1)"
      ]
     },
     "metadata": {},
     "output_type": "display_data"
    }
   ],
   "source": [
    "good_dog = f(-x) + f(x)\n",
    "show(good_dog.log_expand())"
   ]
  },
  {
   "cell_type": "markdown",
   "metadata": {},
   "source": [
    "Функция четная, но не нечетная"
   ]
  },
  {
   "cell_type": "code",
   "execution_count": 9,
   "metadata": {},
   "outputs": [
    {
     "data": {
      "text/html": [
       "<html><script type=\"math/tex; mode=display\">\\newcommand{\\Bold}[1]{\\mathbf{#1}}\\sqrt{T^{2} + 2 \\, T x + x^{2} + 1} = \\frac{\\sqrt{T^{2} + 2 \\, T x + x^{2} - 1} \\sqrt{x^{2} + 1}}{\\sqrt{x^{2} - 1}}</script></html>"
      ],
      "text/latex": [
       "\\begin{math}\n",
       "\\newcommand{\\Bold}[1]{\\mathbf{#1}}\\sqrt{T^{2} + 2 \\, T x + x^{2} + 1} = \\frac{\\sqrt{T^{2} + 2 \\, T x + x^{2} - 1} \\sqrt{x^{2} + 1}}{\\sqrt{x^{2} - 1}}\n",
       "\\end{math}"
      ],
      "text/plain": [
       "sqrt(T^2 + 2*T*x + x^2 + 1) == sqrt(T^2 + 2*T*x + x^2 - 1)*sqrt(x^2 + 1)/sqrt(x^2 - 1)"
      ]
     },
     "metadata": {},
     "output_type": "display_data"
    }
   ],
   "source": [
    "var(\"T\")\n",
    "good_dog_Igor = solve(f(x) - f(x+T),T)\n",
    "for i in good_dog_Igor:\n",
    "    show(i)"
   ]
  },
  {
   "cell_type": "markdown",
   "metadata": {},
   "source": [
    "Функция не является периодичной, потому что Т находится по обе стороны уравнения."
   ]
  },
  {
   "cell_type": "markdown",
   "metadata": {},
   "source": [
    "### 3. Точки пересечения графика с осями координат."
   ]
  },
  {
   "cell_type": "markdown",
   "metadata": {},
   "source": [
    "Так как по области определения x не может равняться нулю, то сразу можно сделать вывод, что пересечения функции с осью ординат нет"
   ]
  },
  {
   "cell_type": "code",
   "execution_count": 10,
   "metadata": {},
   "outputs": [
    {
     "data": {
      "text/html": [
       "<html><script type=\"math/tex; mode=display\">\\newcommand{\\Bold}[1]{\\mathbf{#1}}\\sqrt{x^{2} + 1} = \\sqrt{x^{2} - 1}</script></html>"
      ],
      "text/latex": [
       "\\begin{math}\n",
       "\\newcommand{\\Bold}[1]{\\mathbf{#1}}\\sqrt{x^{2} + 1} = \\sqrt{x^{2} - 1}\n",
       "\\end{math}"
      ],
      "text/plain": [
       "sqrt(x^2 + 1) == sqrt(x^2 - 1)"
      ]
     },
     "metadata": {},
     "output_type": "display_data"
    }
   ],
   "source": [
    "abs_point = solve(f,x)\n",
    "for i in abs_point:\n",
    "    show(i)"
   ]
  },
  {
   "cell_type": "markdown",
   "metadata": {},
   "source": [
    "Из этого следует, что функция не имеет пересечения с осью абсциссы в действительном поле."
   ]
  },
  {
   "cell_type": "markdown",
   "metadata": {},
   "source": [
    "### 4. Промежутки знакопостоянства."
   ]
  },
  {
   "cell_type": "code",
   "execution_count": 11,
   "metadata": {},
   "outputs": [
    {
     "data": {
      "image/png": "[encoded data removed]",
      "text/plain": [
       "Graphics object consisting of 8 graphics primitives"
      ]
     },
     "metadata": {},
     "output_type": "display_data"
    }
   ],
   "source": [
    "intervals = plot(0, (x, -2, 2), ymin=-0.5, ymax=0.5, color='black', aspect_ratio=1, thickness = 3)\n",
    "\n",
    "intervals += point((-1,0), size=50, color='black', zorder=10)\n",
    "intervals += point((1,0), size=50, color='black', zorder=10)\n",
    "\n",
    "y_margin = 0.2\n",
    "intervals += text(\"+\", (-1.5, y_margin), color='black', fontsize=16)\n",
    "intervals += text(\"не определено\", (0, y_margin), color='black', fontsize=7)\n",
    "intervals += text(\"+\", (1.5, y_margin), color='black', fontsize=16)\n",
    "\n",
    "intervals += text(\"-1\", (-1, y_margin), color='black', fontsize=14)\n",
    "intervals += text(\"1\", (1, y_margin), color='black', fontsize=14)\n",
    "\n",
    "intervals.show(axes=False)"
   ]
  },
  {
   "cell_type": "markdown",
   "metadata": {},
   "source": [
    "### 5. Промежутки возрастания и убывания."
   ]
  },
  {
   "cell_type": "code",
   "execution_count": 12,
   "metadata": {},
   "outputs": [
    {
     "data": {
      "text/html": [
       "<html><script type=\"math/tex; mode=display\">\\newcommand{\\Bold}[1]{\\mathbf{#1}}-\\frac{x}{x^{4} - 1} = 0</script></html>"
      ],
      "text/latex": [
       "\\begin{math}\n",
       "\\newcommand{\\Bold}[1]{\\mathbf{#1}}-\\frac{x}{x^{4} - 1} = 0\n",
       "\\end{math}"
      ],
      "text/plain": [
       "-x/(x^4 - 1) == 0"
      ]
     },
     "metadata": {},
     "output_type": "display_data"
    },
    {
     "data": {
      "text/html": [
       "<html><script type=\"math/tex; mode=display\">\\newcommand{\\Bold}[1]{\\mathbf{#1}}x = 0</script></html>"
      ],
      "text/latex": [
       "\\begin{math}\n",
       "\\newcommand{\\Bold}[1]{\\mathbf{#1}}x = 0\n",
       "\\end{math}"
      ],
      "text/plain": [
       "x == 0"
      ]
     },
     "metadata": {},
     "output_type": "display_data"
    }
   ],
   "source": [
    "diff_f = diff(f,x).expand().simplify_full()\n",
    "show(diff_f == 0)\n",
    "\n",
    "show(solve(diff_f,x)[0])"
   ]
  },
  {
   "cell_type": "markdown",
   "metadata": {},
   "source": [
    "Данное уравнение имеет явный корень $x = 0$. Но, смотря на область определения, это значение никогда не достигнится. Поэтому у данного уравнения нет корней. Но это означает, что слева от оси ординат будет возрастать, а справа - убывать."
   ]
  },
  {
   "cell_type": "markdown",
   "metadata": {},
   "source": [
    "### 6. Точки экстремума и значения в этих точках."
   ]
  },
  {
   "cell_type": "code",
   "execution_count": 13,
   "metadata": {},
   "outputs": [],
   "source": [
    "var(\"x\")\n",
    "f = 1/2 * ln(sqrt(x^2 + 1) / sqrt(x^2 - 1))"
   ]
  },
  {
   "cell_type": "code",
   "execution_count": 14,
   "metadata": {},
   "outputs": [],
   "source": [
    "sols = solve(diff(f),x)"
   ]
  },
  {
   "cell_type": "code",
   "execution_count": 15,
   "metadata": {},
   "outputs": [
    {
     "data": {
      "text/plain": [
       "[x == 0]"
      ]
     },
     "execution_count": 15,
     "metadata": {},
     "output_type": "execute_result"
    }
   ],
   "source": [
    "sols"
   ]
  },
  {
   "cell_type": "code",
   "execution_count": 16,
   "metadata": {},
   "outputs": [],
   "source": [
    "sols = solve(diff(f,x,2),x)"
   ]
  },
  {
   "cell_type": "code",
   "execution_count": 17,
   "metadata": {},
   "outputs": [
    {
     "data": {
      "text/html": [
       "<html><script type=\"math/tex; mode=display\">\\newcommand{\\Bold}[1]{\\mathbf{#1}}-0.5373 + 0.5373i</script></html>"
      ],
      "text/latex": [
       "\\begin{math}\n",
       "\\newcommand{\\Bold}[1]{\\mathbf{#1}}-0.5373 + 0.5373i\n",
       "\\end{math}"
      ],
      "text/plain": [
       "-0.5373 + 0.5373*I"
      ]
     },
     "metadata": {},
     "output_type": "display_data"
    },
    {
     "data": {
      "text/html": [
       "<html><script type=\"math/tex; mode=display\">\\newcommand{\\Bold}[1]{\\mathbf{#1}}-0.5373 - 0.5373i</script></html>"
      ],
      "text/latex": [
       "\\begin{math}\n",
       "\\newcommand{\\Bold}[1]{\\mathbf{#1}}-0.5373 - 0.5373i\n",
       "\\end{math}"
      ],
      "text/plain": [
       "-0.5373 - 0.5373*I"
      ]
     },
     "metadata": {},
     "output_type": "display_data"
    },
    {
     "data": {
      "text/html": [
       "<html><script type=\"math/tex; mode=display\">\\newcommand{\\Bold}[1]{\\mathbf{#1}}0.5373 - 0.5373i</script></html>"
      ],
      "text/latex": [
       "\\begin{math}\n",
       "\\newcommand{\\Bold}[1]{\\mathbf{#1}}0.5373 - 0.5373i\n",
       "\\end{math}"
      ],
      "text/plain": [
       "0.5373 - 0.5373*I"
      ]
     },
     "metadata": {},
     "output_type": "display_data"
    },
    {
     "data": {
      "text/html": [
       "<html><script type=\"math/tex; mode=display\">\\newcommand{\\Bold}[1]{\\mathbf{#1}}0.5373 + 0.5373i</script></html>"
      ],
      "text/latex": [
       "\\begin{math}\n",
       "\\newcommand{\\Bold}[1]{\\mathbf{#1}}0.5373 + 0.5373i\n",
       "\\end{math}"
      ],
      "text/plain": [
       "0.5373 + 0.5373*I"
      ]
     },
     "metadata": {},
     "output_type": "display_data"
    }
   ],
   "source": [
    "for sol in sols:\n",
    "    show(sol.rhs().n(digits = 4))"
   ]
  },
  {
   "cell_type": "code",
   "execution_count": 18,
   "metadata": {},
   "outputs": [
    {
     "data": {
      "text/plain": [
       "0.5236*I"
      ]
     },
     "execution_count": 18,
     "metadata": {},
     "output_type": "execute_result"
    }
   ],
   "source": [
    "f(sols[0].rhs()).n(digits = 4)"
   ]
  },
  {
   "cell_type": "code",
   "execution_count": 19,
   "metadata": {},
   "outputs": [
    {
     "data": {
      "text/plain": [
       "-0.5236*I"
      ]
     },
     "execution_count": 19,
     "metadata": {},
     "output_type": "execute_result"
    }
   ],
   "source": [
    "f(sols[1].rhs()).n(digits = 4)"
   ]
  },
  {
   "cell_type": "markdown",
   "metadata": {},
   "source": [
    "Выше видно, что везде получаются комлексные корни. Поэтому экстремумов на области определения нет"
   ]
  },
  {
   "cell_type": "markdown",
   "metadata": {},
   "source": [
    "### 7. Непрерывность. Наличие точек разрыва и их классификация."
   ]
  },
  {
   "cell_type": "markdown",
   "metadata": {},
   "source": [
    "По области определения видим, что нам надо проверить точки $x = -1$ и $x = 1$"
   ]
  },
  {
   "cell_type": "code",
   "execution_count": 20,
   "metadata": {},
   "outputs": [
    {
     "data": {
      "text/html": [
       "<html><script type=\"math/tex; mode=display\">\\newcommand{\\Bold}[1]{\\mathbf{#1}}\\verb|x=|\\phantom{\\verb!x!}\\verb|-1|\\phantom{\\verb!x!}\\verb|-|\\phantom{\\verb!x!}\\verb|точка|\\phantom{\\verb!x!}\\verb|разрыва|\\phantom{\\verb!x!}\\verb|второго|\\phantom{\\verb!x!}\\verb|рода|</script></html>"
      ],
      "text/latex": [
       "\\begin{math}\n",
       "\\newcommand{\\Bold}[1]{\\mathbf{#1}}\\verb|x=|\\phantom{\\verb!x!}\\verb|-1|\\phantom{\\verb!x!}\\verb|-|\\phantom{\\verb!x!}\\verb|точка|\\phantom{\\verb!x!}\\verb|разрыва|\\phantom{\\verb!x!}\\verb|второго|\\phantom{\\verb!x!}\\verb|рода|\n",
       "\\end{math}"
      ],
      "text/plain": [
       "'x= -1 - точка разрыва второго рода'"
      ]
     },
     "metadata": {},
     "output_type": "display_data"
    }
   ],
   "source": [
    "oo1 = UnsignedInfinityRing.gens() + InfinityRing.gens()\n",
    "\n",
    "if limit(f, x=-1, dir='-') in oo1 and limit(f, x=-1, dir='+') in oo1:\n",
    "    show(\"x= -1 - точка разрыва второго рода\")"
   ]
  },
  {
   "cell_type": "code",
   "execution_count": 21,
   "metadata": {},
   "outputs": [
    {
     "ename": "NameError",
     "evalue": "name 'infinities' is not defined",
     "output_type": "error",
     "traceback": [
      "\u001b[0;31m---------------------------------------------------------------------------\u001b[0m",
      "\u001b[0;31mNameError\u001b[0m                                 Traceback (most recent call last)",
      "\u001b[0;32m<ipython-input-21-36130a371530>\u001b[0m in \u001b[0;36m<module>\u001b[0;34m\u001b[0m\n\u001b[0;32m----> 1\u001b[0;31m \u001b[0;32mif\u001b[0m \u001b[0;34m(\u001b[0m\u001b[0mlimit\u001b[0m\u001b[0;34m(\u001b[0m\u001b[0mf\u001b[0m\u001b[0;34m,\u001b[0m \u001b[0mx\u001b[0m\u001b[0;34m=\u001b[0m\u001b[0mInteger\u001b[0m\u001b[0;34m(\u001b[0m\u001b[0;36m1\u001b[0m\u001b[0;34m)\u001b[0m\u001b[0;34m,\u001b[0m \u001b[0mdir\u001b[0m\u001b[0;34m=\u001b[0m\u001b[0;34m'-'\u001b[0m\u001b[0;34m)\u001b[0m \u001b[0;32min\u001b[0m \u001b[0minfinities\u001b[0m\u001b[0;34m)\u001b[0m \u001b[0;32mand\u001b[0m \u001b[0;34m(\u001b[0m\u001b[0mlimit\u001b[0m\u001b[0;34m(\u001b[0m\u001b[0mf\u001b[0m\u001b[0;34m,\u001b[0m \u001b[0mx\u001b[0m\u001b[0;34m=\u001b[0m\u001b[0mInteger\u001b[0m\u001b[0;34m(\u001b[0m\u001b[0;36m1\u001b[0m\u001b[0;34m)\u001b[0m\u001b[0;34m,\u001b[0m \u001b[0mdir\u001b[0m\u001b[0;34m=\u001b[0m\u001b[0;34m'+'\u001b[0m\u001b[0;34m)\u001b[0m \u001b[0;32min\u001b[0m \u001b[0minfinities\u001b[0m\u001b[0;34m)\u001b[0m\u001b[0;34m:\u001b[0m\u001b[0;34m\u001b[0m\u001b[0;34m\u001b[0m\u001b[0m\n\u001b[0m\u001b[1;32m      2\u001b[0m     \u001b[0mshow\u001b[0m\u001b[0;34m(\u001b[0m\u001b[0;34m\"x=1 - точка разрыва второго рода\"\u001b[0m\u001b[0;34m)\u001b[0m\u001b[0;34m\u001b[0m\u001b[0;34m\u001b[0m\u001b[0m\n",
      "\u001b[0;31mNameError\u001b[0m: name 'infinities' is not defined"
     ]
    }
   ],
   "source": [
    "if (limit(f, x=1, dir='-') in infinities) and (limit(f, x=1, dir='+') in infinities):\n",
    "    show(\"x=1 - точка разрыва второго рода\")"
   ]
  },
  {
   "cell_type": "markdown",
   "metadata": {},
   "source": [
    "Функция прерывается, так как есть точки разрыва $x = -1$ и $x = 1$"
   ]
  },
  {
   "cell_type": "markdown",
   "metadata": {},
   "source": [
    "### 8. Асимптоты."
   ]
  },
  {
   "cell_type": "markdown",
   "metadata": {},
   "source": [
    "**Вертикальные асимптоты:** $x = 1$, $x = -1$"
   ]
  },
  {
   "cell_type": "markdown",
   "metadata": {},
   "source": [
    "**Наклонные асимптоты:** "
   ]
  },
  {
   "cell_type": "code",
   "execution_count": null,
   "metadata": {},
   "outputs": [],
   "source": [
    "lim1 = limit(f/x, x = InfinityRing.gens()[0])\n",
    "lim2 = limit(f/x, x = InfinityRing.gens()[1])\n",
    "\n",
    "show(LatexExpr(\"\\\\lim_{x \\\\to +\\\\infty} \\\\frac{f(x)}{x} = \"), lim1, LatexExpr(\"=k_1\"))\n",
    "show(LatexExpr(\"\\\\lim_{x \\\\to -\\\\infty} \\\\frac{f(x)}{x} = \"), lim2, LatexExpr(\"=k_2\"))"
   ]
  },
  {
   "cell_type": "code",
   "execution_count": null,
   "metadata": {},
   "outputs": [],
   "source": [
    "lim1 = limit(f - lim1*x, x = InfinityRing.gens()[0])\n",
    "lim2 = limit(f - lim1*x, x = InfinityRing.gens()[1])\n",
    "\n",
    "show(LatexExpr(\"\\\\lim_{x \\\\to +\\\\infty} f(x) - k_1x = \"), lim1, LatexExpr(\"=b_1\"))\n",
    "show(LatexExpr(\"\\\\lim_{x \\\\to -\\\\infty} f(x) - k_2x = \"), lim2, LatexExpr(\"=b_2\"))"
   ]
  },
  {
   "cell_type": "markdown",
   "metadata": {},
   "source": [
    "**Горизонтальная асимптота:** $y = 0$"
   ]
  },
  {
   "cell_type": "code",
   "execution_count": null,
   "metadata": {},
   "outputs": [],
   "source": [
    "p = plot(f,(x,-10,-1-1e-15))\n",
    "p += plot(f,(x,1+1e-15,10))\n",
    "p += line([[-1, -8], [-1, 8]], linestyle = '--', color='grey', thickness = 2)\n",
    "p += line([[1, -8], [1, 8]], linestyle = '--', color='grey', thickness = 2)\n",
    "p += line([[-10, 0], [10, 0]], linestyle = '--', color='grey', thickness = 2)\n",
    "\n",
    "p.show(ymin = -2, ymax = 6, aspect_ratio = 2, figsize=14, axes_labels=['$x$','$y$'])"
   ]
  }
 ],
 "metadata": {
  "celltoolbar": "Raw Cell Format",
  "kernelspec": {
   "display_name": "SageMath 9.2",
   "language": "sage",
   "name": "sagemath"
  },
  "language_info": {
   "codemirror_mode": {
    "name": "ipython",
    "version": 3
   },
   "file_extension": ".py",
   "mimetype": "text/x-python",
   "name": "python",
   "nbconvert_exporter": "python",
   "pygments_lexer": "ipython3",
   "version": "3.7.7"
  }
 },
 "nbformat": 4,
 "nbformat_minor": 2
}
