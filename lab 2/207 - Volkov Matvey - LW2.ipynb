{
 "cells": [
  {
   "cell_type": "markdown",
   "metadata": {},
   "source": [
    "# Лабораторная работа № 2\n",
    "## По курсу \"Системы аналитических вычислений\"\n",
    "### Студент: Волков М. А.\n",
    "## Заданий 1. Метод прямоугольников, метод трапеций."
   ]
  },
  {
   "cell_type": "code",
   "execution_count": 14,
   "metadata": {},
   "outputs": [],
   "source": [
    "def RectM(int_func, lhs, rhs, step_count):\n",
    "    step = (rhs - lhs) / step_count\n",
    "    vals = []\n",
    "    for i in range(step_count):\n",
    "        vals.append(lhs + i * step)\n",
    "        \n",
    "    vals.append(rhs)\n",
    "    func_vals = []\n",
    "    min_v = 0\n",
    "    max_v = 0\n",
    "    \n",
    "    for i in range(step_count):\n",
    "        curr = int_func(vals[i]);\n",
    "        func_vals.append(curr)\n",
    "        min_v = min(curr, min_v)\n",
    "        max_v = max(curr, max_v)\n",
    "        \n",
    "    #Рисование прямоугольников\n",
    "    plotting = plot(int_func, xmin = lhs, xmax = rhs, ymin = min_v, ymax = max_v, color = \"black\");\n",
    "    \n",
    "    for i in range(step_count):\n",
    "        rect = [\n",
    "            [vals[i], 0],\n",
    "            [vals[i], func_vals[i]],\n",
    "            [vals[i+1], func_vals[i]],\n",
    "            [vals[i+1], 0],\n",
    "            [vals[i], 0]\n",
    "        ]\n",
    "        plotting += line(rect, color = \"blue\")\n",
    "        \n",
    "    #Подсчет ответа\n",
    "    ans = 0\n",
    "    for i in range(step_count):\n",
    "        ans = ans + step * func_vals[i]\n",
    "    plotting.show()\n",
    "    show(LatexExpr(r'\\int_{' + str(lhs.n(digits = 6)) + r'}^{' + str(rhs.n(digits = 6)) + r'} ' \n",
    "                   + latex(int_func(x)) + r' \\,dx \\approx ' + str(ans.n(digits = 6))))"
   ]
  },
  {
   "cell_type": "code",
   "execution_count": 15,
   "metadata": {},
   "outputs": [],
   "source": [
    "F(x) = (ln(x-2) + 1) / (x-2)\n",
    "left_integral_border = 2.5\n",
    "right_integral_border = 50\n",
    "\n",
    "min_steps = 1\n",
    "max_steps = 100"
   ]
  },
  {
   "cell_type": "code",
   "execution_count": 16,
   "metadata": {},
   "outputs": [
    {
     "data": {
      "application/vnd.jupyter.widget-view+json": {
       "model_id": "04a64e5069df4a0c928da6b73effed78",
       "version_major": 2,
       "version_minor": 0
      },
      "text/plain": [
       "Interactive function <function _ at 0x6ffda9b9fe60> with 1 widget\n",
       "  step: IntSlider(value=50, description='ste…"
      ]
     },
     "metadata": {},
     "output_type": "display_data"
    }
   ],
   "source": [
    "@interact\n",
    "def _(step = (min_steps, max_steps, 1)):\n",
    "    RectM(F, left_integral_border, right_integral_border, step)"
   ]
  },
  {
   "cell_type": "code",
   "execution_count": 20,
   "metadata": {},
   "outputs": [],
   "source": [
    "def TrupM(int_func, lhs, rhs, step_count):\n",
    "    step = (rhs - lhs) / step_count\n",
    "    vals = []\n",
    "    for i in range(step_count):\n",
    "        vals.append(lhs + i * step)\n",
    "        \n",
    "    vals.append(rhs)\n",
    "    func_vals = []\n",
    "    min_v = 0\n",
    "    max_v = 0\n",
    "    \n",
    "    for i in range(step_count + 1):\n",
    "        curr = int_func(vals[i]);\n",
    "        func_vals.append(curr)\n",
    "        min_v = min(curr, min_v)\n",
    "        max_v = max(curr, max_v)\n",
    "        \n",
    "    #Рисование прямоугольников\n",
    "    plotting = plot(int_func, xmin = lhs, xmax = rhs, ymin = min_v, ymax = max_v, color = \"black\");\n",
    "    \n",
    "    for i in range(step_count):\n",
    "        trap = [\n",
    "            [vals[i], 0],\n",
    "            [vals[i], func_vals[i]],\n",
    "            [vals[i+1], func_vals[i+1]],\n",
    "            [vals[i+1], 0],\n",
    "            [vals[i], 0]\n",
    "        ]\n",
    "        plotting += line(trap, color = \"blue\")\n",
    "        \n",
    "    #Подсчет ответа\n",
    "    ans = 0\n",
    "    for i in range(step_count):\n",
    "        ans = ans + step * func_vals[i]\n",
    "    plotting.show()\n",
    "    show(LatexExpr(r'\\int_{' + str(lhs.n(digits = 6)) + r'}^{' + str(rhs.n(digits = 6)) + r'} ' \n",
    "                   + latex(int_func(x)) + r' \\,dx \\approx ' + str(ans.n(digits = 6))))"
   ]
  },
  {
   "cell_type": "code",
   "execution_count": 21,
   "metadata": {},
   "outputs": [
    {
     "data": {
      "application/vnd.jupyter.widget-view+json": {
       "model_id": "634996dadb62407aba559e129cdaacd9",
       "version_major": 2,
       "version_minor": 0
      },
      "text/plain": [
       "Interactive function <function _ at 0x6ffda9289ef0> with 1 widget\n",
       "  step: IntSlider(value=50, description='ste…"
      ]
     },
     "metadata": {},
     "output_type": "display_data"
    }
   ],
   "source": [
    "@interact\n",
    "def _(step = (min_steps, max_steps, 1)):\n",
    "    TrupM(F, left_integral_border, right_integral_border, step)"
   ]
  },
  {
   "cell_type": "markdown",
   "metadata": {},
   "source": [
    "## Задание 2. Полиномы и расширенный алгоритм Евклида."
   ]
  },
  {
   "cell_type": "code",
   "execution_count": 38,
   "metadata": {},
   "outputs": [],
   "source": [
    "# Расширенный алгоритм Евклида\n",
    "# Возвращает НОД и коэффициенты\n",
    "def __gcd(a, b):\n",
    "    if (a == 0):\n",
    "        return (b, 0, 1)\n",
    "    q = b//a\n",
    "    r = b%a\n",
    "    d, x1, y1 = (i for i in __gcd(r, a))\n",
    "    x = y1 - q * x1\n",
    "    y = x1\n",
    "    return (d, x, y)"
   ]
  },
  {
   "cell_type": "code",
   "execution_count": 45,
   "metadata": {
    "scrolled": false
   },
   "outputs": [
    {
     "data": {
      "text/html": [
       "<html><script type=\"math/tex; mode=display\">\\newcommand{\\Bold}[1]{\\mathbf{#1}}\\gcd(f(x), g(x)) = x^{2} - \\frac{11}{5} x + \\frac{1}{5}</script></html>"
      ],
      "text/latex": [
       "\\begin{math}\n",
       "\\newcommand{\\Bold}[1]{\\mathbf{#1}}\\gcd(f(x), g(x)) = x^{2} - \\frac{11}{5} x + \\frac{1}{5}\n",
       "\\end{math}"
      ],
      "text/plain": [
       "\\gcd(f(x), g(x)) = x^{2} - \\frac{11}{5} x + \\frac{1}{5}"
      ]
     },
     "metadata": {},
     "output_type": "display_data"
    },
    {
     "data": {
      "text/html": [
       "<html><script type=\"math/tex; mode=display\">\\newcommand{\\Bold}[1]{\\mathbf{#1}}\\gcd^{\\sim}(f(x), g(x)) = 640 x^{2} - 1408 x + 128</script></html>"
      ],
      "text/latex": [
       "\\begin{math}\n",
       "\\newcommand{\\Bold}[1]{\\mathbf{#1}}\\gcd^{\\sim}(f(x), g(x)) = 640 x^{2} - 1408 x + 128\n",
       "\\end{math}"
      ],
      "text/plain": [
       "\\gcd^{\\sim}(f(x), g(x)) = 640 x^{2} - 1408 x + 128"
      ]
     },
     "metadata": {},
     "output_type": "display_data"
    }
   ],
   "source": [
    "# Вариант 4\n",
    "R.<x> = QQ[\"x\"]\n",
    "f = 5 * x ^ 5 - 21 * x ^ 4 + 23 * x ^ 3 - 37 * x ^ 2 + 77 * x - 7\n",
    "g = 10 * x ^ 4 - 42 * x ^ 3 + 56 * x ^ 2 - 26 * x + 2\n",
    "\n",
    "\n",
    "show(LatexExpr(r'\\gcd(f(x), g(x)) = ' + latex(gcd(f(x), g(x)))))\n",
    "result, a, b = __gcd(f, g)\n",
    "show(LatexExpr(r'\\gcd^{\\sim}(f(x), g(x)) = ' + latex(result)))"
   ]
  },
  {
   "cell_type": "markdown",
   "metadata": {},
   "source": [
    "Мой алгоритм вычисления НОД отличается от стандартного на множитель k"
   ]
  },
  {
   "cell_type": "code",
   "execution_count": 52,
   "metadata": {},
   "outputs": [
    {
     "data": {
      "text/html": [
       "<html><script type=\"math/tex; mode=display\">\\newcommand{\\Bold}[1]{\\mathbf{#1}}k = \\left(\\frac{1}{640}\\right)</script></html>"
      ],
      "text/latex": [
       "\\begin{math}\n",
       "\\newcommand{\\Bold}[1]{\\mathbf{#1}}k = \\left(\\frac{1}{640}\\right)\n",
       "\\end{math}"
      ],
      "text/plain": [
       "k = \\left(\\frac{1}{640}\\right)"
      ]
     },
     "metadata": {},
     "output_type": "display_data"
    }
   ],
   "source": [
    "var(\"k\")\n",
    "ka = solve(result*k == gcd(f(x), g(x)), k)[0]\n",
    "show(LatexExpr(latex(ka)))"
   ]
  },
  {
   "cell_type": "markdown",
   "metadata": {},
   "source": [
    "Форма _Безу_:"
   ]
  },
  {
   "cell_type": "code",
   "execution_count": 53,
   "metadata": {},
   "outputs": [
    {
     "data": {
      "text/plain": [
       "True"
      ]
     },
     "execution_count": 53,
     "metadata": {},
     "output_type": "execute_result"
    }
   ],
   "source": [
    "f*a + g*b == result"
   ]
  }
 ],
 "metadata": {
  "kernelspec": {
   "display_name": "SageMath 9.2",
   "language": "sage",
   "name": "sagemath"
  },
  "language_info": {
   "codemirror_mode": {
    "name": "ipython",
    "version": 3
   },
   "file_extension": ".py",
   "mimetype": "text/x-python",
   "name": "python",
   "nbconvert_exporter": "python",
   "pygments_lexer": "ipython3",
   "version": "3.7.7"
  }
 },
 "nbformat": 4,
 "nbformat_minor": 4
}
